{
 "cells": [
  {
   "cell_type": "code",
   "execution_count": 1,
   "metadata": {},
   "outputs": [],
   "source": [
    "class Card():\n",
    "    def __init__(self, rank, suit) -> None:\n",
    "        self.rank = rank\n",
    "        self.suit = suit\n",
    "    \n",
    "    def __str__(self) -> str:\n",
    "        return f'{self.rank} {self.suit}'\n",
    "\n",
    "class Deck():\n",
    "    def __init__(self) -> None:\n",
    "        self.deck = []\n",
    "        self.make_deck()\n",
    "\n",
    "    def __str__(self) -> str:\n",
    "        s = ''\n",
    "        for card in self.deck:\n",
    "            s += f'{card}\\n'\n",
    "        return s\n",
    "\n",
    "    def make_deck(self):\n",
    "        for suit in suits:\n",
    "            for rank in ranks:\n",
    "                self.deck.append(Card(rank, suit))\n",
    "        self.deck.append(Card('Joker', 'Red'))\n",
    "        self.deck.append(Card('Joker', 'Black'))\n",
    "        return self\n",
    "    \n",
    "    def get_deck(self):\n",
    "        return self.deck"
   ]
  },
  {
   "cell_type": "code",
   "execution_count": 3,
   "metadata": {},
   "outputs": [],
   "source": [
    "#trefla, inima, romb, frunza\n",
    "suits = [\"\\u2663\", \"\\u2665\", \"\\u2666\", \"\\u2660\"]\n",
    "ranks = list(map(str, range(2, 11))) + ['J', 'Q', 'K', 'A']\n",
    "values = {'2': 2, '3': 3, 'Joker': [5, 10]}"
   ]
  },
  {
   "cell_type": "code",
   "execution_count": 4,
   "metadata": {},
   "outputs": [],
   "source": [
    "deck = Deck()"
   ]
  },
  {
   "cell_type": "code",
   "execution_count": 5,
   "metadata": {},
   "outputs": [
    {
     "data": {
      "text/plain": [
       "[<__main__.Card at 0x182f06955b0>,\n",
       " <__main__.Card at 0x182f0695c10>,\n",
       " <__main__.Card at 0x182f0693740>,\n",
       " <__main__.Card at 0x182f06a3740>,\n",
       " <__main__.Card at 0x182f06a2600>,\n",
       " <__main__.Card at 0x182f06a0530>,\n",
       " <__main__.Card at 0x182f06a00e0>,\n",
       " <__main__.Card at 0x182f06a25d0>,\n",
       " <__main__.Card at 0x182f06a07a0>,\n",
       " <__main__.Card at 0x182f06a2720>,\n",
       " <__main__.Card at 0x182f06a3a10>,\n",
       " <__main__.Card at 0x182f06a26c0>,\n",
       " <__main__.Card at 0x182f06a2480>,\n",
       " <__main__.Card at 0x182f06a32c0>,\n",
       " <__main__.Card at 0x182f06a3650>,\n",
       " <__main__.Card at 0x182f06a25a0>,\n",
       " <__main__.Card at 0x182f06a2660>,\n",
       " <__main__.Card at 0x182f06a3770>,\n",
       " <__main__.Card at 0x182f06a0410>,\n",
       " <__main__.Card at 0x182f06a0ad0>,\n",
       " <__main__.Card at 0x182f06a2510>,\n",
       " <__main__.Card at 0x182f06a2300>,\n",
       " <__main__.Card at 0x182f06a2240>,\n",
       " <__main__.Card at 0x182f06a2390>,\n",
       " <__main__.Card at 0x182f06a2330>,\n",
       " <__main__.Card at 0x182f06a23c0>,\n",
       " <__main__.Card at 0x182f06a26f0>,\n",
       " <__main__.Card at 0x182f06a2450>,\n",
       " <__main__.Card at 0x182f06a2750>,\n",
       " <__main__.Card at 0x182f06a3890>,\n",
       " <__main__.Card at 0x182f06a23f0>,\n",
       " <__main__.Card at 0x182f06a3a70>,\n",
       " <__main__.Card at 0x182f06a38f0>,\n",
       " <__main__.Card at 0x182f06a3aa0>,\n",
       " <__main__.Card at 0x182f06a2570>,\n",
       " <__main__.Card at 0x182f06a3920>,\n",
       " <__main__.Card at 0x182f06a3260>,\n",
       " <__main__.Card at 0x182f06a2e10>,\n",
       " <__main__.Card at 0x182f06a2780>,\n",
       " <__main__.Card at 0x182f06a2d80>,\n",
       " <__main__.Card at 0x182f06a3170>,\n",
       " <__main__.Card at 0x182f06a2c30>,\n",
       " <__main__.Card at 0x182f06a2c60>,\n",
       " <__main__.Card at 0x182f06a2a20>,\n",
       " <__main__.Card at 0x182f06a2870>,\n",
       " <__main__.Card at 0x182f06a3050>,\n",
       " <__main__.Card at 0x182f06a2ae0>,\n",
       " <__main__.Card at 0x182f06a2db0>,\n",
       " <__main__.Card at 0x182f06a0230>,\n",
       " <__main__.Card at 0x182f06a2f30>,\n",
       " <__main__.Card at 0x182f06a2c90>,\n",
       " <__main__.Card at 0x182f06a29f0>,\n",
       " <__main__.Card at 0x182f06947a0>,\n",
       " <__main__.Card at 0x182f0694bf0>]"
      ]
     },
     "execution_count": 5,
     "metadata": {},
     "output_type": "execute_result"
    }
   ],
   "source": [
    "deck.get_deck()"
   ]
  }
 ],
 "metadata": {
  "kernelspec": {
   "display_name": "base",
   "language": "python",
   "name": "python3"
  },
  "language_info": {
   "codemirror_mode": {
    "name": "ipython",
    "version": 3
   },
   "file_extension": ".py",
   "mimetype": "text/x-python",
   "name": "python",
   "nbconvert_exporter": "python",
   "pygments_lexer": "ipython3",
   "version": "3.12.4"
  }
 },
 "nbformat": 4,
 "nbformat_minor": 2
}
